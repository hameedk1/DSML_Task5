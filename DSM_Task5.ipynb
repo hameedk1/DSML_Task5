{
  "nbformat": 4,
  "nbformat_minor": 0,
  "metadata": {
    "colab": {
      "provenance": [],
      "authorship_tag": "ABX9TyOVAdQg6C7CAOd1h6dmEjcf",
      "include_colab_link": true
    },
    "kernelspec": {
      "name": "python3",
      "display_name": "Python 3"
    },
    "language_info": {
      "name": "python"
    }
  },
  "cells": [
    {
      "cell_type": "markdown",
      "metadata": {
        "id": "view-in-github",
        "colab_type": "text"
      },
      "source": [
        "<a href=\"https://colab.research.google.com/github/hameedk1/DSML_Task5/blob/main/DSM_Task5.ipynb\" target=\"_parent\"><img src=\"https://colab.research.google.com/assets/colab-badge.svg\" alt=\"Open In Colab\"/></a>"
      ]
    },
    {
      "cell_type": "markdown",
      "source": [
        "1.  Write a Python program to create a class representing a Circle. Include methods to calculate its area and perimeter.\n"
      ],
      "metadata": {
        "id": "h4XMhSw6oOml"
      }
    },
    {
      "cell_type": "code",
      "source": [
        "import math  # Import the math module for mathematical operations\n",
        "\n",
        "class Circle:\n",
        "    def __init__(self, radius):\n",
        "        self.radius = radius  # Initialize the radius of the circle\n",
        "\n",
        "    def calculate_area(self):\n",
        "        \"\"\"Calculate the area of the circle.\"\"\"\n",
        "        area = math.pi * (self.radius ** 2)  # Area formula: π * r^2\n",
        "        return area\n",
        "\n",
        "    def calculate_perimeter(self):\n",
        "        \"\"\"Calculate the perimeter (circumference) of the circle.\"\"\"\n",
        "        perimeter = 2 * math.pi * self.radius  # Perimeter formula: 2 * π * r\n",
        "        return perimeter\n",
        "\n",
        "# Example usage:\n",
        "radius = float(input(\"Enter the radius of the circle: \"))\n",
        "circle = Circle(radius)\n",
        "\n",
        "print(\"Area of the circle:\", circle.calculate_area())\n",
        "print(\"Perimeter of the circle:\", circle.calculate_perimeter())"
      ],
      "metadata": {
        "colab": {
          "base_uri": "https://localhost:8080/"
        },
        "id": "2VH6swzqoRo3",
        "outputId": "9b60b2f5-6b5e-4a60-a5e2-59b5d388a7ad"
      },
      "execution_count": 1,
      "outputs": [
        {
          "output_type": "stream",
          "name": "stdout",
          "text": [
            "Enter the radius of the circle: 10\n",
            "Area of the circle: 314.1592653589793\n",
            "Perimeter of the circle: 62.83185307179586\n"
          ]
        }
      ]
    },
    {
      "cell_type": "markdown",
      "source": [
        "2. Write a Python program to create a calculator class. Include methods for basic arithmetic operations.\n"
      ],
      "metadata": {
        "id": "3ib8OWlOoqCO"
      }
    },
    {
      "cell_type": "code",
      "source": [
        "class Calculator:\n",
        "    def add(self, num1, num2):\n",
        "        \"\"\"Addition method.\"\"\"\n",
        "        return num1 + num2\n",
        "\n",
        "    def subtract(self, num1, num2):\n",
        "        \"\"\"Subtraction method.\"\"\"\n",
        "        return num1 - num2\n",
        "\n",
        "    def multiply(self, num1, num2):\n",
        "        \"\"\"Multiplication method.\"\"\"\n",
        "        return num1 * num2\n",
        "\n",
        "    def divide(self, num1, num2):\n",
        "        \"\"\"Division method.\"\"\"\n",
        "        if num2 != 0:  # Check for division by zero\n",
        "            return num1 / num2\n",
        "        else:\n",
        "            return \"Error: Division by zero\"\n",
        "\n",
        "# Example usage:\n",
        "calculator = Calculator()\n",
        "\n",
        "# Perform basic arithmetic operations\n",
        "num1 = float(input(\"Enter the first number: \"))\n",
        "num2 = float(input(\"Enter the second number: \"))\n",
        "\n",
        "print(\"Sum:\", calculator.add(num1, num2))\n",
        "print(\"Difference:\", calculator.subtract(num1, num2))\n",
        "print(\"Product:\", calculator.multiply(num1, num2))\n",
        "print(\"Quotient:\", calculator.divide(num1, num2))"
      ],
      "metadata": {
        "colab": {
          "base_uri": "https://localhost:8080/"
        },
        "id": "waln40VKoz6s",
        "outputId": "f5033f0e-f642-4ad9-cd99-11531687f504"
      },
      "execution_count": 2,
      "outputs": [
        {
          "output_type": "stream",
          "name": "stdout",
          "text": [
            "Enter the first number: 15\n",
            "Enter the second number: 15\n",
            "Sum: 30.0\n",
            "Difference: 0.0\n",
            "Product: 225.0\n",
            "Quotient: 1.0\n"
          ]
        }
      ]
    },
    {
      "cell_type": "markdown",
      "source": [
        " Write a Python program to create a class that represents a shape. Include methods to calculate its area and perimeter. Implement subclasses for different shapes like circle, triangle, and square.\n"
      ],
      "metadata": {
        "id": "jY0oDxrfpHWU"
      }
    },
    {
      "cell_type": "code",
      "source": [
        "import math  # Import the math module for mathematical operations\n",
        "\n",
        "class Shape:\n",
        "    def calculate_area(self):\n",
        "        \"\"\"Calculate the area of the shape.\"\"\"\n",
        "        pass  # Placeholder method to be overridden by subclasses\n",
        "\n",
        "    def calculate_perimeter(self):\n",
        "        \"\"\"Calculate the perimeter of the shape.\"\"\"\n",
        "        pass  # Placeholder method to be overridden by subclasses\n",
        "\n",
        "class Circle(Shape):\n",
        "    def __init__(self, radius):\n",
        "        self.radius = radius\n",
        "\n",
        "    def calculate_area(self):\n",
        "        \"\"\"Calculate the area of the circle.\"\"\"\n",
        "        area = math.pi * (self.radius ** 2)  # Area formula: π * r^2\n",
        "        return area\n",
        "\n",
        "    def calculate_perimeter(self):\n",
        "        \"\"\"Calculate the circumference of the circle.\"\"\"\n",
        "        perimeter = 2 * math.pi * self.radius  # Perimeter formula: 2 * π * r\n",
        "        return perimeter\n",
        "\n",
        "class Triangle(Shape):\n",
        "    def __init__(self, base, height, side1, side2, side3):\n",
        "        self.base = base\n",
        "        self.height = height\n",
        "        self.side1 = side1\n",
        "        self.side2 = side2\n",
        "        self.side3 = side3\n",
        "\n",
        "    def calculate_area(self):\n",
        "        \"\"\"Calculate the area of the triangle.\"\"\"\n",
        "        area = 0.5 * self.base * self.height  # Area formula: 0.5 * base * height\n",
        "        return area\n",
        "\n",
        "    def calculate_perimeter(self):\n",
        "        \"\"\"Calculate the perimeter of the triangle.\"\"\"\n",
        "        perimeter = self.side1 + self.side2 + self.side3  # Perimeter formula: sum of all sides\n",
        "        return perimeter\n",
        "\n",
        "class Square(Shape):\n",
        "    def __init__(self, side):\n",
        "        self.side = side\n",
        "\n",
        "    def calculate_area(self):\n",
        "        \"\"\"Calculate the area of the square.\"\"\"\n",
        "        area = self.side ** 2  # Area formula: side * side\n",
        "        return area\n",
        "\n",
        "    def calculate_perimeter(self):\n",
        "        \"\"\"Calculate the perimeter of the square.\"\"\"\n",
        "        perimeter = 4 * self.side  # Perimeter formula: 4 * side\n",
        "        return perimeter\n",
        "\n",
        "# Example usage:\n",
        "circle = Circle(5)\n",
        "triangle = Triangle(6, 8, 5, 7, 9)\n",
        "square = Square(4)\n",
        "\n",
        "print(\"Circle Area:\", circle.calculate_area())\n",
        "print(\"Circle Perimeter:\", circle.calculate_perimeter())\n",
        "\n",
        "print(\"Triangle Area:\", triangle.calculate_area())\n",
        "print(\"Triangle Perimeter:\", triangle.calculate_perimeter())\n",
        "\n",
        "print(\"Square Area:\", square.calculate_area())\n",
        "print(\"Square Perimeter:\", square.calculate_perimeter())"
      ],
      "metadata": {
        "colab": {
          "base_uri": "https://localhost:8080/"
        },
        "id": "iIWeDTMYpNkh",
        "outputId": "e519332d-cfe3-4021-ef5f-6fa14289f893"
      },
      "execution_count": 3,
      "outputs": [
        {
          "output_type": "stream",
          "name": "stdout",
          "text": [
            "Circle Area: 78.53981633974483\n",
            "Circle Perimeter: 31.41592653589793\n",
            "Triangle Area: 24.0\n",
            "Triangle Perimeter: 21\n",
            "Square Area: 16\n",
            "Square Perimeter: 16\n"
          ]
        }
      ]
    }
  ]
}